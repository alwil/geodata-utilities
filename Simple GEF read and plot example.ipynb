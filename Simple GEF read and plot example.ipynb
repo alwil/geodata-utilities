{
 "cells": [
  {
   "cell_type": "code",
   "execution_count": 1,
   "id": "b0d4ae25",
   "metadata": {},
   "outputs": [],
   "source": [
    "import gefreader\n",
    "\n",
    "import matplotlib.pyplot as plt\n",
    "import numpy as np"
   ]
  },
  {
   "cell_type": "markdown",
   "id": "e25a02c6",
   "metadata": {},
   "source": [
    "### Load a basic CPT gef file and plot it"
   ]
  },
  {
   "cell_type": "code",
   "execution_count": 2,
   "id": "90e12626",
   "metadata": {},
   "outputs": [],
   "source": [
    "GEF_file=r'Raw_data\\608312_DKP201.GEF'"
   ]
  },
  {
   "cell_type": "code",
   "execution_count": 3,
   "id": "3f09398d",
   "metadata": {},
   "outputs": [],
   "source": [
    "myGef = gefreader.Gef2OpenClass()\n",
    "myGef.read_gef(GEF_file);"
   ]
  },
  {
   "cell_type": "code",
   "execution_count": 4,
   "id": "f084c2bb",
   "metadata": {},
   "outputs": [],
   "source": [
    "# myGef.__dict__"
   ]
  },
  {
   "cell_type": "code",
   "execution_count": 5,
   "id": "52cabadd",
   "metadata": {},
   "outputs": [
    {
     "name": "stdout",
     "output_type": "stream",
     "text": [
      "Column 1 contains sondeerlengte in m\n",
      "Column 2 contains Puntdruk in MPa\n",
      "Column 3 contains Lokale wrijving in Mpa\n",
      "Column 4 contains Waterdruk schouder in Mpa\n",
      "Column 5 contains Helling in Graden(deg)\n",
      "Column 6 contains Wrijvingsgetal in %\n"
     ]
    }
   ],
   "source": [
    "for i in range(1,int(myGef.headerdict['COLUMN'][0])+1):\n",
    "    depth, unit, name = myGef.get_data_column(i)\n",
    "    print('Column {} contains {} in {}'.format(i, name, unit))"
   ]
  },
  {
   "cell_type": "code",
   "execution_count": 6,
   "id": "7ee51c45",
   "metadata": {
    "scrolled": false
   },
   "outputs": [],
   "source": [
    "def plot_columns(myGef, column_1, column_2, titlesize=12, labelsize=10):\n",
    "    \n",
    "    column_1_value, column_1_unit, column_1_name = myGef.get_data_column(column_1)\n",
    "    column_2_value, column_2_unit, column_2_name = myGef.get_data_column(column_2)\n",
    "\n",
    "    title = myGef.get_testid()\n",
    "\n",
    "    fig, ax = plt.subplots(1, 1, figsize=(4, 8))\n",
    "    \n",
    "    ax.invert_yaxis()\n",
    "    plt.plot(column_1_value, column_2_value)\n",
    "\n",
    "    plt.xlabel(column_1_name + ' [' + column_1_unit + ']', fontsize=labelsize, fontweight='bold')\n",
    "    plt.ylabel(column_2_name + ' [' + column_2_unit + ']', fontsize=labelsize, fontweight='bold')\n",
    "    plt.title(title, fontsize=titlesize, fontweight='bold');"
   ]
  },
  {
   "cell_type": "code",
   "execution_count": 7,
   "id": "944c2390",
   "metadata": {},
   "outputs": [
    {
     "data": {
      "image/png": "[encoded data removed]",
      "text/plain": [
       "<Figure size 288x576 with 1 Axes>"
      ]
     },
     "metadata": {
      "needs_background": "light"
     },
     "output_type": "display_data"
    }
   ],
   "source": [
    "plot_columns(myGef, 2, 1)"
   ]
  },
  {
   "cell_type": "code",
   "execution_count": 8,
   "id": "a43b4496",
   "metadata": {
    "scrolled": false
   },
   "outputs": [],
   "source": [
    "debug=False\n",
    "if debug:\n",
    "    # Variables for testing\n",
    "    i_Kol = 2\n",
    "    iRij = 1\n",
    "    i_Index = 1\n",
    "    i_iQtyNumber = 1\n",
    "    i_sAspect = 1\n",
    "\n",
    "    # PrettyPrinter for printing dictionary\n",
    "    import pprint\n",
    "    pp = pprint.PrettyPrinter(indent=4)\n",
    "\n",
    "    # Testing all outcome\n",
    "    print('gbr_is_gbr = {}'.format(myGef.gbr_is_gbr()))\n",
    "    print('gcr_is_gcr = {}'.format(myGef.gcr_is_gcr()))\n",
    "    print('get_companyid_flag = {}'.format(myGef.get_companyid_flag()))\n",
    "    print('get_column = {}'.format(myGef.get_column()))\n",
    "    print('get_column_flag = {}'.format(myGef.get_column_flag()))\n",
    "    print('get_companyid_Name = {}'.format(myGef.get_companyid_Name()))\n",
    "    print('get_data = {}'.format(myGef.get_data(i_Kol, iRij)))\n",
    "    print('get_data_iter = {}'.format(myGef.get_data_iter(i_Kol)))\n",
    "    print('get_measurementtext_flag = {}'.format(myGef.get_measurementtext_flag(i_Index)))\n",
    "    print('get_measurementvar_flag = {}'.format(myGef.get_measurementvar_flag(i_Index)))\n",
    "    print('get_measurementtext_Tekst = {}'.format(myGef.get_measurementtext_Tekst(i_Index)))\n",
    "    print('get_measurementvar_Value = {}'.format(myGef.get_measurementvar_Value(i_Index)))\n",
    "    print('get_nr_scans = {}'.format(myGef.get_nr_scans()))\n",
    "    print('get_parent_flag = {}'.format(myGef.get_parent_flag()))\n",
    "    print('get_parent_reference = {}'.format(myGef.get_parent_reference()))\n",
    "    print('get_procedurecode_flag = {}'.format(myGef.get_procedurecode_flag()))\n",
    "    print('get_procedurecode_Code = {}'.format(myGef.get_procedurecode_Code()))\n",
    "    print('get_projectid_flag = {}'.format(myGef.get_projectid_flag()))\n",
    "    print('get_projectid_Number = {}'.format(myGef.get_projectid_Number()))\n",
    "    print('get_reportcode_flag = {}'.format(myGef.get_reportcode_flag()))\n",
    "    print('get_reportcode_Code = {}'.format(myGef.get_reportcode_Code()))\n",
    "    print('get_startdate_flag = {}'.format(myGef.get_startdate_flag()))\n",
    "    print('get_startdate_Yyyy = {}'.format(myGef.get_startdate_Yyyy()))\n",
    "    print('get_startdate_Mm = {}'.format(myGef.get_startdate_Mm()))\n",
    "    print('get_startdate_Dd = {}'.format(myGef.get_startdate_Dd()))\n",
    "    print('get_xyid_flag = {}'.format(myGef.get_xyid_flag()))\n",
    "    print('get_xyid_X = {}'.format(myGef.get_xyid_X()))\n",
    "    print('get_xyid_Y = {}'.format(myGef.get_xyid_Y()))\n",
    "    print('get_zid_flag = {}'.format(myGef.get_zid_flag()))\n",
    "    print('get_zid_Z = {}'.format(myGef.get_zid_Z()))\n",
    "    print('qn2column = {}'.format(myGef.qn2column(i_iQtyNumber)))\n",
    "\n",
    "    print('qn2column 1 = {}'.format(myGef.qn2column(1)))\n",
    "    print('qn2column 2 = {}'.format(myGef.qn2column(2)))\n",
    "    print('qn2column 3 = {}'.format(myGef.qn2column(3)))\n",
    "    print('qn2column 6 = {}'.format(myGef.qn2column(6)))\n",
    "    print('qn2column 8 = {}'.format(myGef.qn2column(8)))\n",
    "    print('qn2column 4 = {}'.format(myGef.qn2column(4)))\n",
    "    print('qn2column corrected depth = {}'.format(myGef.qn2column(1, get_corrected_depth=True)))\n",
    "\n",
    "    pp.pprint(myGef.headerdict)"
   ]
  },
  {
   "cell_type": "markdown",
   "id": "4d7c4573",
   "metadata": {},
   "source": [
    "### Load a basic Anker gef file and plot it"
   ]
  },
  {
   "cell_type": "code",
   "execution_count": 9,
   "id": "1c29347b",
   "metadata": {},
   "outputs": [],
   "source": [
    "GEF_file=r'Raw_data\\HHTT_anker1.GEF'"
   ]
  },
  {
   "cell_type": "code",
   "execution_count": 10,
   "id": "381df973",
   "metadata": {},
   "outputs": [],
   "source": [
    "myGef = gefreader.Gef2OpenClass()\n",
    "myGef.read_gef(GEF_file);"
   ]
  },
  {
   "cell_type": "code",
   "execution_count": 11,
   "id": "ddbe4b22",
   "metadata": {
    "scrolled": false
   },
   "outputs": [],
   "source": [
    "# myGef.__dict__"
   ]
  },
  {
   "cell_type": "code",
   "execution_count": 12,
   "id": "e7c67db0",
   "metadata": {},
   "outputs": [
    {
     "name": "stdout",
     "output_type": "stream",
     "text": [
      "Column 1 contains LOAD in kN\n",
      "Column 2 contains T in min\n",
      "Column 3 contains u in mm\n"
     ]
    }
   ],
   "source": [
    "for i in range(1,int(myGef.headerdict['COLUMN'][0])+1):\n",
    "    depth, unit, name = myGef.get_data_column(i)\n",
    "    print('Column {} contains {} in {}'.format(i, name, unit))"
   ]
  },
  {
   "cell_type": "code",
   "execution_count": 13,
   "id": "8add5488",
   "metadata": {},
   "outputs": [
    {
     "data": {
      "image/png": "[encoded data removed]",
      "text/plain": [
       "<Figure size 576x288 with 2 Axes>"
      ]
     },
     "metadata": {
      "needs_background": "light"
     },
     "output_type": "display_data"
    }
   ],
   "source": [
    "duration, duration_unit, duration_name = myGef.get_data_column(2)\n",
    "load, load_unit, load_name = myGef.get_data_column(1)\n",
    "deformation, deformation_unit, deformation_name = myGef.get_data_column(3)\n",
    "\n",
    "title = myGef.headerdict['PROJECT'][0] + myGef.headerdict['ANCHORID'][0]\n",
    "\n",
    "fig, ax1 = plt.subplots(1, 1, figsize=(8, 4))\n",
    "titlesize=12\n",
    "labelsize=10\n",
    "\n",
    "ax1.set_xlabel(duration_name + ' [' + duration_unit + ']', fontsize=labelsize, fontweight='bold') \n",
    "ax1.set_ylabel(load_name + ' [' + load_unit + ']', fontsize=labelsize, fontweight='bold', color = 'blue') \n",
    "ax1.plot(np.cumsum(duration), load, color = 'blue') \n",
    "ax1.tick_params(axis ='y', labelcolor = 'blue') \n",
    "ax1.set(ylim=(0, 5500))\n",
    "  \n",
    "# Adding Twin Axes\n",
    "ax2 = ax1.twinx() \n",
    "ax2.set_ylabel(deformation_name + ' [' + deformation_unit + ']', fontsize=labelsize, fontweight='bold', color = 'red') \n",
    "ax2.plot(np.cumsum(duration), deformation, linestyle=':', color = 'red') \n",
    "ax2.tick_params(axis ='y', labelcolor = 'red') \n",
    "ax2.set(ylim=(0, 100))\n",
    "\n",
    "plt.title(title, fontsize=titlesize, fontweight='bold');"
   ]
  },
  {
   "cell_type": "markdown",
   "id": "e3c54864",
   "metadata": {},
   "source": [
    "### Some testing"
   ]
  },
  {
   "cell_type": "code",
   "execution_count": 14,
   "id": "207039fb",
   "metadata": {},
   "outputs": [],
   "source": [
    "# *** test presence of key labels ***\n",
    "# test if COLUMN is in the headerdict\n",
    "assert 'COLUMN' in myGef.__dict__['headerdict'], 'COLUMN not found'\n",
    "\n",
    "# test if COLUMNINFO is in the headerdict\n",
    "assert 'COLUMNINFO' in myGef.__dict__['headerdict'], 'COLUMNINFO not found'\n",
    "\n",
    "# test if COLUMN is in the headerdict\n",
    "assert 'COLUMNVOID' in myGef.__dict__['headerdict'], 'COLUMNVOID not found'\n",
    "\n",
    "# test if COLUMN is in the headerdict\n",
    "assert 'datablok' in myGef.__dict__['headerdict'], 'datablok not found'\n",
    "\n",
    "# *** test internal logic of the data\n",
    "# test if there are as many COLUMNINFO's as you would expect from the field COLUMN\n",
    "assert myGef.headerdict['COLUMN'][0]==len(myGef.headerdict['COLUMNINFO']), 'COLUMNS does not match the number of COLUMNINFO'\n",
    "\n",
    "# test if the LASTSCAN value euqals the lenght of the data block\n",
    "assert myGef.headerdict['LASTSCAN'][0]==len(myGef.headerdict['datablok']), 'LASTSCAN does not match the length of datablok' "
   ]
  }
 ],
 "metadata": {
  "kernelspec": {
   "display_name": "Python 3 (ipykernel)",
   "language": "python",
   "name": "python3"
  },
  "language_info": {
   "codemirror_mode": {
    "name": "ipython",
    "version": 3
   },
   "file_extension": ".py",
   "mimetype": "text/x-python",
   "name": "python",
   "nbconvert_exporter": "python",
   "pygments_lexer": "ipython3",
   "version": "3.9.12"
  }
 },
 "nbformat": 4,
 "nbformat_minor": 5
}
