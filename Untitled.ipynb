{
 "cells": [
  {
   "cell_type": "code",
   "execution_count": 9,
   "id": "dae7f77d",
   "metadata": {},
   "outputs": [],
   "source": [
    "netID = 'ABDfregreg'\n",
    "\n",
    "valid_users = {'awilczynski', 'acryan', 'mvankoningsveld', 'fedorbaart'}\n"
   ]
  },
  {
   "cell_type": "code",
   "execution_count": 10,
   "id": "909dfff7",
   "metadata": {},
   "outputs": [],
   "source": [
    "netID = netID.lower()"
   ]
  },
  {
   "cell_type": "code",
   "execution_count": 11,
   "id": "fcb3f0b3",
   "metadata": {
    "slideshow": {
     "slide_type": "slide"
    }
   },
   "outputs": [
    {
     "data": {
      "text/plain": [
       "'abdfregreg'"
      ]
     },
     "execution_count": 11,
     "metadata": {},
     "output_type": "execute_result"
    }
   ],
   "source": [
    "netID"
   ]
  },
  {
   "cell_type": "code",
   "execution_count": 4,
   "id": "0efad499",
   "metadata": {},
   "outputs": [
    {
     "ename": "AssertionError",
     "evalue": "You do not have sufficient permission to use this programme.",
     "output_type": "error",
     "traceback": [
      "\u001b[1;31m---------------------------------------------------------------------------\u001b[0m",
      "\u001b[1;31mAssertionError\u001b[0m                            Traceback (most recent call last)",
      "\u001b[1;32mC:\\Users\\AWILCZ~1\\AppData\\Local\\Temp/ipykernel_1948/1410727517.py\u001b[0m in \u001b[0;36m<module>\u001b[1;34m\u001b[0m\n\u001b[1;32m----> 1\u001b[1;33m \u001b[1;32massert\u001b[0m \u001b[0mnetID\u001b[0m \u001b[1;32min\u001b[0m \u001b[0mvalid_users\u001b[0m\u001b[1;33m,\u001b[0m \u001b[1;34m\"You do not have sufficient permission to use this programme.\"\u001b[0m\u001b[1;33m\u001b[0m\u001b[1;33m\u001b[0m\u001b[0m\n\u001b[0m",
      "\u001b[1;31mAssertionError\u001b[0m: You do not have sufficient permission to use this programme."
     ]
    }
   ],
   "source": [
    "assert netID in valid_users, \"You do not have sufficient permission to use this programme.\""
   ]
  },
  {
   "cell_type": "code",
   "execution_count": 12,
   "id": "05118590",
   "metadata": {},
   "outputs": [
    {
     "ename": "SyntaxError",
     "evalue": "illegal target for annotation (Temp/ipykernel_1948/1518057582.py, line 1)",
     "output_type": "error",
     "traceback": [
      "\u001b[1;36m  File \u001b[1;32m\"C:\\Users\\AWILCZ~1\\AppData\\Local\\Temp/ipykernel_1948/1518057582.py\"\u001b[1;36m, line \u001b[1;32m1\u001b[0m\n\u001b[1;33m    1:20\u001b[0m\n\u001b[1;37m    ^\u001b[0m\n\u001b[1;31mSyntaxError\u001b[0m\u001b[1;31m:\u001b[0m illegal target for annotation\n"
     ]
    }
   ],
   "source": [
    "1:20"
   ]
  },
  {
   "cell_type": "code",
   "execution_count": 19,
   "id": "78242c50",
   "metadata": {},
   "outputs": [],
   "source": [
    "col_choices = ['Grout', 'XXX', 'YYY', 'ZZZ']\n",
    "input_string = ''\n",
    "\n",
    "for i, var in enumerate(col_choices):\n",
    "    #i += 1\n",
    "    input_string += '\\n'+ str(i) + '-' + var  \n",
    "input_string = \"Which collection would you upload the datasets to?\" + input_string + '\\n'"
   ]
  },
  {
   "cell_type": "code",
   "execution_count": 20,
   "id": "d06fdc05",
   "metadata": {},
   "outputs": [
    {
     "name": "stdout",
     "output_type": "stream",
     "text": [
      "Which collection would you upload the datasets to?\n",
      "0-Grout\n",
      "1-XXX\n",
      "2-YYY\n",
      "3-ZZZ\n",
      "\n"
     ]
    }
   ],
   "source": [
    "print(input_string)"
   ]
  },
  {
   "cell_type": "code",
   "execution_count": 22,
   "id": "a2e4b421",
   "metadata": {},
   "outputs": [
    {
     "name": "stdout",
     "output_type": "stream",
     "text": [
      "<enumerate object at 0x000002853BE82C80>\n"
     ]
    }
   ],
   "source": [
    "print(enumerate(col_choices))"
   ]
  },
  {
   "cell_type": "code",
   "execution_count": 23,
   "id": "df6aa767",
   "metadata": {},
   "outputs": [
    {
     "data": {
      "text/plain": [
       "['Grout', 'XXX', 'YYY', 'ZZZ']"
      ]
     },
     "execution_count": 23,
     "metadata": {},
     "output_type": "execute_result"
    }
   ],
   "source": [
    "col_choices"
   ]
  },
  {
   "cell_type": "code",
   "execution_count": 25,
   "id": "304a7907",
   "metadata": {},
   "outputs": [
    {
     "ename": "AttributeError",
     "evalue": "'list' object has no attribute 'length'",
     "output_type": "error",
     "traceback": [
      "\u001b[1;31m---------------------------------------------------------------------------\u001b[0m",
      "\u001b[1;31mAttributeError\u001b[0m                            Traceback (most recent call last)",
      "\u001b[1;32mC:\\Users\\AWILCZ~1\\AppData\\Local\\Temp/ipykernel_1948/926308330.py\u001b[0m in \u001b[0;36m<module>\u001b[1;34m\u001b[0m\n\u001b[1;32m----> 1\u001b[1;33m \u001b[0mcol_choices\u001b[0m\u001b[1;33m.\u001b[0m\u001b[0mlength\u001b[0m\u001b[1;33m(\u001b[0m\u001b[1;33m)\u001b[0m\u001b[1;33m\u001b[0m\u001b[1;33m\u001b[0m\u001b[0m\n\u001b[0m",
      "\u001b[1;31mAttributeError\u001b[0m: 'list' object has no attribute 'length'"
     ]
    }
   ],
   "source": [
    "col_choices.length()"
   ]
  },
  {
   "cell_type": "code",
   "execution_count": 26,
   "id": "6f8f7813",
   "metadata": {},
   "outputs": [
    {
     "data": {
      "text/plain": [
       "[0, 1, 2, 3, 4]"
      ]
     },
     "execution_count": 26,
     "metadata": {},
     "output_type": "execute_result"
    }
   ],
   "source": [
    "list(range(0, len(col_choices) +1))"
   ]
  },
  {
   "cell_type": "code",
   "execution_count": 3,
   "id": "7db2b702",
   "metadata": {},
   "outputs": [],
   "source": [
    "coll_data_formats = {'grout':'GEF', 'XXX': 'foo', 'YYY': 'bar', 'ZZZ': 'baz'}\n",
    "coll = 'grout'"
   ]
  },
  {
   "cell_type": "code",
   "execution_count": 4,
   "id": "860f8e4a",
   "metadata": {},
   "outputs": [
    {
     "data": {
      "text/plain": [
       "'GEF'"
      ]
     },
     "execution_count": 4,
     "metadata": {},
     "output_type": "execute_result"
    }
   ],
   "source": [
    "coll_data_formats[coll]"
   ]
  },
  {
   "cell_type": "code",
   "execution_count": 5,
   "id": "77249a3c",
   "metadata": {},
   "outputs": [],
   "source": [
    "art_custom_fields = {\"Organizations\": \"TU Delft - Delft University of Technology;\\nTU Delft, Faculty of Civil Engineering and Geosciences\",\n",
    "                 \"Time coverage\": \"2022-01-01\",\n",
    "                 \"Geolocation\"  : \"Cabauw Experimental Site for Atmospheric Research (CESAR): Meteo mast\",\n",
    "                 \"Geolocation Longitude\": \"4.926\",\n",
    "                 \"Geolocation Latitude\" : \"51.97\",\n",
    "                 \"Format\"       : \"media types: application/x-netcdf\"} "
   ]
  },
  {
   "cell_type": "code",
   "execution_count": 6,
   "id": "4854163a",
   "metadata": {},
   "outputs": [
    {
     "ename": "TypeError",
     "evalue": "unsupported operand type(s) for +: 'dict' and 'dict'",
     "output_type": "error",
     "traceback": [
      "\u001b[1;31m---------------------------------------------------------------------------\u001b[0m",
      "\u001b[1;31mTypeError\u001b[0m                                 Traceback (most recent call last)",
      "\u001b[1;32mC:\\Users\\AWILCZ~1\\AppData\\Local\\Temp/ipykernel_4112/735041147.py\u001b[0m in \u001b[0;36m<module>\u001b[1;34m\u001b[0m\n\u001b[1;32m----> 1\u001b[1;33m \u001b[0mart_custom_fields\u001b[0m\u001b[1;33m+\u001b[0m\u001b[0mart_custom_fields\u001b[0m\u001b[1;33m\u001b[0m\u001b[1;33m\u001b[0m\u001b[0m\n\u001b[0m",
      "\u001b[1;31mTypeError\u001b[0m: unsupported operand type(s) for +: 'dict' and 'dict'"
     ]
    }
   ],
   "source": [
    "art_custom_fields+art_custom_fields"
   ]
  },
  {
   "cell_type": "code",
   "execution_count": 7,
   "id": "da3b36d2",
   "metadata": {},
   "outputs": [],
   "source": [
    "d1={1:2,3:4}\n",
    "d2={5:6,7:9}\n",
    "d3={10:8,13:22}"
   ]
  },
  {
   "cell_type": "code",
   "execution_count": 11,
   "id": "7a2f7b2f",
   "metadata": {},
   "outputs": [
    {
     "ename": "TypeError",
     "evalue": "unsupported operand type(s) for +: 'dict_items' and 'dict_items'",
     "output_type": "error",
     "traceback": [
      "\u001b[1;31m---------------------------------------------------------------------------\u001b[0m",
      "\u001b[1;31mTypeError\u001b[0m                                 Traceback (most recent call last)",
      "\u001b[1;32mC:\\Users\\AWILCZ~1\\AppData\\Local\\Temp/ipykernel_4112/3263878281.py\u001b[0m in \u001b[0;36m<module>\u001b[1;34m\u001b[0m\n\u001b[1;32m----> 1\u001b[1;33m \u001b[0md4\u001b[0m \u001b[1;33m=\u001b[0m \u001b[0mdict\u001b[0m\u001b[1;33m(\u001b[0m\u001b[0md1\u001b[0m\u001b[1;33m.\u001b[0m\u001b[0mitems\u001b[0m\u001b[1;33m(\u001b[0m\u001b[1;33m)\u001b[0m\u001b[1;33m+\u001b[0m \u001b[0md2\u001b[0m\u001b[1;33m.\u001b[0m\u001b[0mitems\u001b[0m\u001b[1;33m(\u001b[0m\u001b[1;33m)\u001b[0m \u001b[1;33m+\u001b[0m \u001b[0mart_custom_fields\u001b[0m\u001b[1;33m.\u001b[0m\u001b[0mitems\u001b[0m\u001b[1;33m(\u001b[0m\u001b[1;33m)\u001b[0m \u001b[1;33m)\u001b[0m\u001b[1;33m\u001b[0m\u001b[1;33m\u001b[0m\u001b[0m\n\u001b[0m",
      "\u001b[1;31mTypeError\u001b[0m: unsupported operand type(s) for +: 'dict_items' and 'dict_items'"
     ]
    }
   ],
   "source": [
    "d4 = dict(d1.items()+ d2.items() + art_custom_fields.items() )"
   ]
  },
  {
   "cell_type": "code",
   "execution_count": 13,
   "id": "47a5317f",
   "metadata": {},
   "outputs": [],
   "source": [
    "d4 = {}\n",
    "d4.update(d1)\n",
    "d4.update(d2)\n",
    "d4.update(d3)"
   ]
  },
  {
   "cell_type": "code",
   "execution_count": 14,
   "id": "dfc03c65",
   "metadata": {},
   "outputs": [
    {
     "data": {
      "text/plain": [
       "{1: 2, 3: 4, 5: 6, 7: 9, 10: 8, 13: 22}"
      ]
     },
     "execution_count": 14,
     "metadata": {},
     "output_type": "execute_result"
    }
   ],
   "source": [
    "d4"
   ]
  },
  {
   "cell_type": "code",
   "execution_count": 15,
   "id": "609ed0a0",
   "metadata": {},
   "outputs": [],
   "source": [
    "d4.update(art_custom_fields)"
   ]
  },
  {
   "cell_type": "code",
   "execution_count": 16,
   "id": "b3861dae",
   "metadata": {},
   "outputs": [
    {
     "data": {
      "text/plain": [
       "{1: 2,\n",
       " 3: 4,\n",
       " 5: 6,\n",
       " 7: 9,\n",
       " 10: 8,\n",
       " 13: 22,\n",
       " 'Organizations': 'TU Delft - Delft University of Technology;\\nTU Delft, Faculty of Civil Engineering and Geosciences',\n",
       " 'Time coverage': '2022-01-01',\n",
       " 'Geolocation': 'Cabauw Experimental Site for Atmospheric Research (CESAR): Meteo mast',\n",
       " 'Geolocation Longitude': '4.926',\n",
       " 'Geolocation Latitude': '51.97',\n",
       " 'Format': 'media types: application/x-netcdf'}"
      ]
     },
     "execution_count": 16,
     "metadata": {},
     "output_type": "execute_result"
    }
   ],
   "source": [
    "d4"
   ]
  },
  {
   "cell_type": "code",
   "execution_count": 19,
   "id": "3114f770",
   "metadata": {},
   "outputs": [],
   "source": [
    "import re\n",
    "def yes_no_input(user_input):\n",
    "        # Clean input\n",
    "    user_input_clean = re.sub(\"[^a-z]\",\"\",user_input.lower())\n",
    "    \n",
    "    # Allow only y/yes n/no \n",
    "    assert user_input_clean in ['y', 'yes', 'n', 'no'] ,'I did not understand your selection. Please try again.'\n",
    "    return(user_input_clean)"
   ]
  },
  {
   "cell_type": "code",
   "execution_count": 21,
   "id": "2045400b",
   "metadata": {},
   "outputs": [
    {
     "ename": "AssertionError",
     "evalue": "I did not understand your selection. Please try again.",
     "output_type": "error",
     "traceback": [
      "\u001b[1;31m---------------------------------------------------------------------------\u001b[0m",
      "\u001b[1;31mAssertionError\u001b[0m                            Traceback (most recent call last)",
      "\u001b[1;32mC:\\Users\\AWILCZ~1\\AppData\\Local\\Temp/ipykernel_4112/2224084588.py\u001b[0m in \u001b[0;36m<module>\u001b[1;34m\u001b[0m\n\u001b[1;32m----> 1\u001b[1;33m \u001b[0myes_no_input\u001b[0m\u001b[1;33m(\u001b[0m\u001b[1;34m'adsd'\u001b[0m\u001b[1;33m)\u001b[0m\u001b[1;33m\u001b[0m\u001b[1;33m\u001b[0m\u001b[0m\n\u001b[0m",
      "\u001b[1;32mC:\\Users\\AWILCZ~1\\AppData\\Local\\Temp/ipykernel_4112/2062933904.py\u001b[0m in \u001b[0;36myes_no_input\u001b[1;34m(user_input)\u001b[0m\n\u001b[0;32m      5\u001b[0m \u001b[1;33m\u001b[0m\u001b[0m\n\u001b[0;32m      6\u001b[0m     \u001b[1;31m# Allow only y/yes n/no\u001b[0m\u001b[1;33m\u001b[0m\u001b[1;33m\u001b[0m\u001b[0m\n\u001b[1;32m----> 7\u001b[1;33m     \u001b[1;32massert\u001b[0m \u001b[0muser_input_clean\u001b[0m \u001b[1;32min\u001b[0m \u001b[1;33m[\u001b[0m\u001b[1;34m'y'\u001b[0m\u001b[1;33m,\u001b[0m \u001b[1;34m'yes'\u001b[0m\u001b[1;33m,\u001b[0m \u001b[1;34m'n'\u001b[0m\u001b[1;33m,\u001b[0m \u001b[1;34m'no'\u001b[0m\u001b[1;33m]\u001b[0m \u001b[1;33m,\u001b[0m\u001b[1;34m'I did not understand your selection. Please try again.'\u001b[0m\u001b[1;33m\u001b[0m\u001b[1;33m\u001b[0m\u001b[0m\n\u001b[0m\u001b[0;32m      8\u001b[0m     \u001b[1;32mreturn\u001b[0m\u001b[1;33m(\u001b[0m\u001b[0muser_input_clean\u001b[0m\u001b[1;33m)\u001b[0m\u001b[1;33m\u001b[0m\u001b[1;33m\u001b[0m\u001b[0m\n",
      "\u001b[1;31mAssertionError\u001b[0m: I did not understand your selection. Please try again."
     ]
    }
   ],
   "source": [
    "yes_no_input('adsd')"
   ]
  },
  {
   "cell_type": "code",
   "execution_count": 30,
   "id": "dc3399b4",
   "metadata": {},
   "outputs": [
    {
     "name": "stdout",
     "output_type": "stream",
     "text": [
      "Provide author names, separated by a comadssdf , dgdfg ,fdg ,\n"
     ]
    }
   ],
   "source": [
    "authors_input = input(\"Provide author names, separated by a coma\") \n",
    "x = authors_input.split(sep = ',') "
   ]
  },
  {
   "cell_type": "code",
   "execution_count": 34,
   "id": "b67c8498",
   "metadata": {},
   "outputs": [],
   "source": [
    "x = list(map(str.strip, x))"
   ]
  },
  {
   "cell_type": "code",
   "execution_count": 35,
   "id": "ca4dd003",
   "metadata": {},
   "outputs": [
    {
     "data": {
      "text/plain": [
       "['dssdf', 'dgdfg', 'fdg', '']"
      ]
     },
     "execution_count": 35,
     "metadata": {},
     "output_type": "execute_result"
    }
   ],
   "source": [
    "x"
   ]
  },
  {
   "cell_type": "code",
   "execution_count": 36,
   "id": "604dbfec",
   "metadata": {},
   "outputs": [
    {
     "data": {
      "text/plain": [
       "{'name': ['dssdf', 'dgdfg', 'fdg', '']}"
      ]
     },
     "execution_count": 36,
     "metadata": {},
     "output_type": "execute_result"
    }
   ],
   "source": [
    "{\"name\":x}"
   ]
  },
  {
   "cell_type": "code",
   "execution_count": 1,
   "id": "1c99d62b",
   "metadata": {},
   "outputs": [
    {
     "name": "stdout",
     "output_type": "stream",
     "text": [
      "Provide author names, separated by a comaAleks , Joe Doe, John Smith\n"
     ]
    }
   ],
   "source": [
    "authors_input = input(\"Provide author names, separated by a coma\") \n",
    "authors_input_list = authors_input.split(sep = ',')\n",
    "authors_input_list_clean = list(map(str.strip, authors_input_list))"
   ]
  },
  {
   "cell_type": "code",
   "execution_count": 2,
   "id": "1ef76ebd",
   "metadata": {},
   "outputs": [
    {
     "data": {
      "text/plain": [
       "['Aleks', 'Joe Doe', 'John Smith']"
      ]
     },
     "execution_count": 2,
     "metadata": {},
     "output_type": "execute_result"
    }
   ],
   "source": [
    "authors_input_list_clean"
   ]
  },
  {
   "cell_type": "code",
   "execution_count": 4,
   "id": "9245e715",
   "metadata": {},
   "outputs": [],
   "source": [
    "content = []\n",
    "for iframe in authors_input_list_clean:\n",
    "    info = {\n",
    "        \"name\": iframe }\n",
    "    content.append(info)"
   ]
  },
  {
   "cell_type": "code",
   "execution_count": 5,
   "id": "c6843e31",
   "metadata": {},
   "outputs": [
    {
     "data": {
      "text/plain": [
       "[{'name': 'Aleks'}, {'name': 'Joe Doe'}, {'name': 'John Smith'}]"
      ]
     },
     "execution_count": 5,
     "metadata": {},
     "output_type": "execute_result"
    }
   ],
   "source": [
    "content"
   ]
  },
  {
   "cell_type": "code",
   "execution_count": 19,
   "id": "d14e96c2",
   "metadata": {},
   "outputs": [],
   "source": [
    "art_title = 'sfddgg'\n",
    "art_description = 'dgdg'\n",
    "art_keywords = ['cgdgdsg','dgsd']\n",
    "art_date = 'edfsdghhW'\n",
    "art_location = 'rDSFWEG'\n",
    "geo_lon = 'wDSHnhr'\n",
    "geo_lat = 'rSDGWEH'\n",
    "company = 'rWHh'\n",
    "\n"
   ]
  },
  {
   "cell_type": "code",
   "execution_count": 12,
   "id": "e8cbe8a5",
   "metadata": {},
   "outputs": [],
   "source": [
    "meta_names= ['art_title',\n",
    "'art_description' ,\n",
    "'art_keywords' ,\n",
    "'art_date'  ,\n",
    "'art_location' ,\n",
    "'geo_lon' ,\n",
    "'geo_lat' ,\n",
    "'company' ]\n",
    "\n",
    "retrieved_meta = [art_title, art_description, art_keywords, art_date, art_location,geo_lon, geo_lat,  company ]\n"
   ]
  },
  {
   "cell_type": "code",
   "execution_count": 14,
   "id": "333c5edf",
   "metadata": {},
   "outputs": [],
   "source": [
    "x = dict(zip(meta_names, retrieved_meta))"
   ]
  },
  {
   "cell_type": "code",
   "execution_count": 21,
   "id": "6cf09b15",
   "metadata": {},
   "outputs": [
    {
     "data": {
      "text/plain": [
       "'a'"
      ]
     },
     "execution_count": 21,
     "metadata": {},
     "output_type": "execute_result"
    }
   ],
   "source": [
    "x['art_title']"
   ]
  },
  {
   "cell_type": "code",
   "execution_count": 3,
   "id": "b0f0d1e6",
   "metadata": {},
   "outputs": [],
   "source": [
    "import os\n",
    "\n",
    "file_path = 'U:\\DMDCC\\Geodata\\Geodata-utilities\\README.md'"
   ]
  },
  {
   "cell_type": "code",
   "execution_count": 6,
   "id": "57287f09",
   "metadata": {},
   "outputs": [],
   "source": [
    "file = os.path.basename(file_path)"
   ]
  },
  {
   "cell_type": "code",
   "execution_count": 9,
   "id": "ee288abb",
   "metadata": {},
   "outputs": [
    {
     "data": {
      "text/plain": [
       "False"
      ]
     },
     "execution_count": 9,
     "metadata": {},
     "output_type": "execute_result"
    }
   ],
   "source": [
    "file.endswith('GEF')"
   ]
  },
  {
   "cell_type": "code",
   "execution_count": 15,
   "id": "bdd528cc",
   "metadata": {},
   "outputs": [
    {
     "data": {
      "text/plain": [
       "'.md'"
      ]
     },
     "execution_count": 15,
     "metadata": {},
     "output_type": "execute_result"
    }
   ],
   "source": [
    "os.path.splitext(file_path)[1]"
   ]
  },
  {
   "cell_type": "code",
   "execution_count": 13,
   "id": "94adcb48",
   "metadata": {},
   "outputs": [
    {
     "data": {
      "text/plain": [
       "'.md'"
      ]
     },
     "execution_count": 13,
     "metadata": {},
     "output_type": "execute_result"
    }
   ],
   "source": [
    "extension"
   ]
  },
  {
   "cell_type": "code",
   "execution_count": 1,
   "id": "32b7c643",
   "metadata": {},
   "outputs": [],
   "source": [
    "import requests\n",
    "import json\n",
    "import hashlib\n",
    "import os\n",
    "import re\n",
    "import sys"
   ]
  },
  {
   "cell_type": "code",
   "execution_count": 11,
   "id": "02d2863a",
   "metadata": {},
   "outputs": [
    {
     "name": "stdout",
     "output_type": "stream",
     "text": [
      "Please provide the path to the files.U:\\DMDCC\\Geodata\\Geodata-utilities\\Raw_data\n"
     ]
    }
   ],
   "source": [
    "file_path = input(\"Please provide the path to the files.\")"
   ]
  },
  {
   "cell_type": "code",
   "execution_count": 12,
   "id": "041bfd1f",
   "metadata": {},
   "outputs": [],
   "source": [
    "coll_format= 'GEF'"
   ]
  },
  {
   "cell_type": "code",
   "execution_count": 25,
   "id": "e2139b11",
   "metadata": {},
   "outputs": [],
   "source": [
    "file_list =  []"
   ]
  },
  {
   "cell_type": "code",
   "execution_count": 20,
   "id": "5bcd15c7",
   "metadata": {},
   "outputs": [],
   "source": [
    "assert(os.path.isdir(file_path)), \"Invalid directory\""
   ]
  },
  {
   "cell_type": "code",
   "execution_count": 21,
   "id": "3f17fe1d",
   "metadata": {},
   "outputs": [
    {
     "data": {
      "text/plain": [
       "True"
      ]
     },
     "execution_count": 21,
     "metadata": {},
     "output_type": "execute_result"
    }
   ],
   "source": [
    "os.path.isdir(file_path)"
   ]
  },
  {
   "cell_type": "code",
   "execution_count": 22,
   "id": "ee6de621",
   "metadata": {},
   "outputs": [
    {
     "data": {
      "text/plain": [
       "'U:\\\\DMDCC\\\\Geodata\\\\Geodata-utilities\\\\Raw_data'"
      ]
     },
     "execution_count": 22,
     "metadata": {},
     "output_type": "execute_result"
    }
   ],
   "source": [
    "file_path"
   ]
  },
  {
   "cell_type": "code",
   "execution_count": 27,
   "id": "cef181d1",
   "metadata": {},
   "outputs": [
    {
     "ename": "AttributeError",
     "evalue": "'NoneType' object has no attribute 'append'",
     "output_type": "error",
     "traceback": [
      "\u001b[1;31m---------------------------------------------------------------------------\u001b[0m",
      "\u001b[1;31mAttributeError\u001b[0m                            Traceback (most recent call last)",
      "\u001b[1;32mC:\\Users\\AWILCZ~1\\AppData\\Local\\Temp/ipykernel_13644/2052029695.py\u001b[0m in \u001b[0;36m<module>\u001b[1;34m\u001b[0m\n\u001b[1;32m----> 1\u001b[1;33m \u001b[0mfile_list\u001b[0m \u001b[1;33m=\u001b[0m \u001b[0mfile_list\u001b[0m\u001b[1;33m.\u001b[0m\u001b[0mappend\u001b[0m\u001b[1;33m(\u001b[0m \u001b[0mos\u001b[0m\u001b[1;33m.\u001b[0m\u001b[0mpath\u001b[0m\u001b[1;33m.\u001b[0m\u001b[0mjoin\u001b[0m\u001b[1;33m(\u001b[0m\u001b[0mfile_path\u001b[0m\u001b[1;33m,\u001b[0m \u001b[0mfile\u001b[0m\u001b[1;33m)\u001b[0m\u001b[1;33m)\u001b[0m\u001b[1;33m\u001b[0m\u001b[1;33m\u001b[0m\u001b[0m\n\u001b[0m",
      "\u001b[1;31mAttributeError\u001b[0m: 'NoneType' object has no attribute 'append'"
     ]
    }
   ],
   "source": [
    "file_list = file_list.append( os.path.join(file_path, file))"
   ]
  },
  {
   "cell_type": "code",
   "execution_count": 26,
   "id": "175d21f6",
   "metadata": {},
   "outputs": [
    {
     "ename": "AttributeError",
     "evalue": "'NoneType' object has no attribute 'append'",
     "output_type": "error",
     "traceback": [
      "\u001b[1;31m---------------------------------------------------------------------------\u001b[0m",
      "\u001b[1;31mAttributeError\u001b[0m                            Traceback (most recent call last)",
      "\u001b[1;32mC:\\Users\\AWILCZ~1\\AppData\\Local\\Temp/ipykernel_13644/3141751805.py\u001b[0m in \u001b[0;36m<module>\u001b[1;34m\u001b[0m\n\u001b[0;32m      1\u001b[0m \u001b[1;32mfor\u001b[0m \u001b[0mfile\u001b[0m \u001b[1;32min\u001b[0m \u001b[0mos\u001b[0m\u001b[1;33m.\u001b[0m\u001b[0mlistdir\u001b[0m\u001b[1;33m(\u001b[0m\u001b[0mfile_path\u001b[0m\u001b[1;33m)\u001b[0m\u001b[1;33m:\u001b[0m\u001b[1;33m\u001b[0m\u001b[1;33m\u001b[0m\u001b[0m\n\u001b[0;32m      2\u001b[0m     \u001b[1;32mif\u001b[0m \u001b[0mfile\u001b[0m\u001b[1;33m.\u001b[0m\u001b[0mendswith\u001b[0m\u001b[1;33m(\u001b[0m\u001b[0mcoll_format\u001b[0m\u001b[1;33m)\u001b[0m\u001b[1;33m:\u001b[0m\u001b[1;33m\u001b[0m\u001b[1;33m\u001b[0m\u001b[0m\n\u001b[1;32m----> 3\u001b[1;33m         \u001b[0mfile_list\u001b[0m \u001b[1;33m=\u001b[0m \u001b[0mfile_list\u001b[0m\u001b[1;33m.\u001b[0m\u001b[0mappend\u001b[0m\u001b[1;33m(\u001b[0m \u001b[0mos\u001b[0m\u001b[1;33m.\u001b[0m\u001b[0mpath\u001b[0m\u001b[1;33m.\u001b[0m\u001b[0mjoin\u001b[0m\u001b[1;33m(\u001b[0m\u001b[0mfile_path\u001b[0m\u001b[1;33m,\u001b[0m \u001b[0mfile\u001b[0m\u001b[1;33m)\u001b[0m\u001b[1;33m)\u001b[0m\u001b[1;33m\u001b[0m\u001b[1;33m\u001b[0m\u001b[0m\n\u001b[0m",
      "\u001b[1;31mAttributeError\u001b[0m: 'NoneType' object has no attribute 'append'"
     ]
    }
   ],
   "source": [
    "for file in os.listdir(file_path):\n",
    "    if file.endswith(coll_format):\n",
    "        file_list = file_list.append( os.path.join(file_path, file))"
   ]
  },
  {
   "cell_type": "code",
   "execution_count": 28,
   "id": "38072a13",
   "metadata": {},
   "outputs": [],
   "source": [
    "num = []\n",
    "for i in range(3, 15, 2):\n",
    "    num.append(i)"
   ]
  },
  {
   "cell_type": "code",
   "execution_count": 29,
   "id": "602ffde2",
   "metadata": {},
   "outputs": [
    {
     "data": {
      "text/plain": [
       "[3, 5, 7, 9, 11, 13]"
      ]
     },
     "execution_count": 29,
     "metadata": {},
     "output_type": "execute_result"
    }
   ],
   "source": [
    "num"
   ]
  },
  {
   "cell_type": "code",
   "execution_count": 37,
   "id": "440087ad",
   "metadata": {},
   "outputs": [],
   "source": [
    "file_list = []\n",
    "for file in os.listdir(file_path):\n",
    "    if file.endswith(coll_format):\n",
    "        file_list.append(os.path.join(file_path, file))"
   ]
  },
  {
   "cell_type": "code",
   "execution_count": 38,
   "id": "ddc00027",
   "metadata": {},
   "outputs": [
    {
     "data": {
      "text/plain": [
       "['U:\\\\DMDCC\\\\Geodata\\\\Geodata-utilities\\\\Raw_data\\\\608312_DKP201.GEF',\n",
       " 'U:\\\\DMDCC\\\\Geodata\\\\Geodata-utilities\\\\Raw_data\\\\608312_DKP202.GEF',\n",
       " 'U:\\\\DMDCC\\\\Geodata\\\\Geodata-utilities\\\\Raw_data\\\\HHTT_anker1.GEF',\n",
       " 'U:\\\\DMDCC\\\\Geodata\\\\Geodata-utilities\\\\Raw_data\\\\HHTT_ankerUB13.GEF',\n",
       " 'U:\\\\DMDCC\\\\Geodata\\\\Geodata-utilities\\\\Raw_data\\\\LBBR_28-1.GEF']"
      ]
     },
     "execution_count": 38,
     "metadata": {},
     "output_type": "execute_result"
    }
   ],
   "source": [
    "file_list"
   ]
  },
  {
   "cell_type": "code",
   "execution_count": 39,
   "id": "d70630ad",
   "metadata": {},
   "outputs": [
    {
     "ename": "TypeError",
     "evalue": "can only concatenate str (not \"list\") to str",
     "output_type": "error",
     "traceback": [
      "\u001b[1;31m---------------------------------------------------------------------------\u001b[0m",
      "\u001b[1;31mTypeError\u001b[0m                                 Traceback (most recent call last)",
      "\u001b[1;32mC:\\Users\\AWILCZ~1\\AppData\\Local\\Temp/ipykernel_13644/3942421387.py\u001b[0m in \u001b[0;36m<module>\u001b[1;34m\u001b[0m\n\u001b[1;32m----> 1\u001b[1;33m \u001b[0mprint\u001b[0m\u001b[1;33m(\u001b[0m\u001b[1;34m'The files selected in upload: '\u001b[0m \u001b[1;33m+\u001b[0m \u001b[0mfile_list\u001b[0m \u001b[1;33m+\u001b[0m \u001b[1;34m'/n'\u001b[0m\u001b[1;33m)\u001b[0m\u001b[1;33m\u001b[0m\u001b[1;33m\u001b[0m\u001b[0m\n\u001b[0m",
      "\u001b[1;31mTypeError\u001b[0m: can only concatenate str (not \"list\") to str"
     ]
    }
   ],
   "source": [
    "print('The files selected in upload: ' + file_list + '/n')"
   ]
  },
  {
   "cell_type": "code",
   "execution_count": 36,
   "id": "073c4a3b",
   "metadata": {},
   "outputs": [
    {
     "ename": "AssertionError",
     "evalue": "No files in the directory match the selected collection format:GEF",
     "output_type": "error",
     "traceback": [
      "\u001b[1;31m---------------------------------------------------------------------------\u001b[0m",
      "\u001b[1;31mAssertionError\u001b[0m                            Traceback (most recent call last)",
      "\u001b[1;32mC:\\Users\\AWILCZ~1\\AppData\\Local\\Temp/ipykernel_13644/1632897611.py\u001b[0m in \u001b[0;36m<module>\u001b[1;34m\u001b[0m\n\u001b[1;32m----> 1\u001b[1;33m \u001b[1;32massert\u001b[0m \u001b[0mlen\u001b[0m\u001b[1;33m(\u001b[0m\u001b[0mfile_list\u001b[0m\u001b[1;33m)\u001b[0m\u001b[1;33m>\u001b[0m\u001b[1;36m0\u001b[0m \u001b[1;33m,\u001b[0m \u001b[1;34m\"No files in the directory match the selected collection format:\"\u001b[0m\u001b[1;33m+\u001b[0m \u001b[0mcoll_format\u001b[0m\u001b[1;33m\u001b[0m\u001b[1;33m\u001b[0m\u001b[0m\n\u001b[0m",
      "\u001b[1;31mAssertionError\u001b[0m: No files in the directory match the selected collection format:GEF"
     ]
    }
   ],
   "source": [
    "  assert len(file_list)>0 , \"No files in the directory match the selected collection format:\"+ coll_format"
   ]
  },
  {
   "cell_type": "code",
   "execution_count": 45,
   "id": "720c5ac3",
   "metadata": {},
   "outputs": [
    {
     "name": "stdout",
     "output_type": "stream",
     "text": [
      "The files selected in upload: \n",
      "- 608312_DKP201.GEF\n",
      "- 608312_DKP202.GEF\n",
      "- HHTT_anker1.GEF\n",
      "- HHTT_ankerUB13.GEF\n",
      "- LBBR_28-1.GEF/n\n"
     ]
    }
   ],
   "source": [
    "input_string = ''\n",
    "for file in file_list:\n",
    "    input_string += '\\n'+  '- ' + os.path.basename(file)  \n",
    "\n",
    "print('The files selected in upload: ' + input_string + '/n')"
   ]
  },
  {
   "cell_type": "code",
   "execution_count": 47,
   "id": "910cf4d0",
   "metadata": {},
   "outputs": [
    {
     "name": "stdout",
     "output_type": "stream",
     "text": [
      "Which collection would you upload the datasets to?\n",
      "0-grout\n",
      "1-xxx\n",
      "2-yyy\n",
      "3-zzz\n",
      "0\n"
     ]
    }
   ],
   "source": [
    "col_choices = ['grout', 'xxx', 'yyy', 'zzz']\n",
    "input_string = ''\n",
    "    \n",
    "for i, var in enumerate(col_choices):\n",
    "    input_string += '\\n'+ str(i) + '-' + var  \n",
    "    \n",
    "input_string = \"Which collection would you upload the datasets to?\" + input_string + '\\n'\n",
    "coll_type = input(input_string)"
   ]
  },
  {
   "cell_type": "code",
   "execution_count": 51,
   "id": "ee0af9c9",
   "metadata": {},
   "outputs": [
    {
     "data": {
      "text/plain": [
       "'0'"
      ]
     },
     "execution_count": 51,
     "metadata": {},
     "output_type": "execute_result"
    }
   ],
   "source": [
    "coll_type"
   ]
  },
  {
   "cell_type": "code",
   "execution_count": 53,
   "id": "b111e5ea",
   "metadata": {},
   "outputs": [
    {
     "data": {
      "text/plain": [
       "'0'"
      ]
     },
     "execution_count": 53,
     "metadata": {},
     "output_type": "execute_result"
    }
   ],
   "source": [
    "coll_type.lower()"
   ]
  },
  {
   "cell_type": "code",
   "execution_count": 55,
   "id": "cb823543",
   "metadata": {},
   "outputs": [],
   "source": [
    "coll_type_clean = int(re.sub(\"[^0-9]\",\"\", coll_type.lower() )) #  clean from unwanted characters\n"
   ]
  },
  {
   "cell_type": "code",
   "execution_count": 56,
   "id": "f487db6c",
   "metadata": {},
   "outputs": [
    {
     "data": {
      "text/plain": [
       "0"
      ]
     },
     "execution_count": 56,
     "metadata": {},
     "output_type": "execute_result"
    }
   ],
   "source": [
    "coll_type_clean"
   ]
  },
  {
   "cell_type": "code",
   "execution_count": 57,
   "id": "aacc0106",
   "metadata": {},
   "outputs": [],
   "source": [
    "assert coll_type_clean in list(range(0, len(col_choices) )), 'Wrong selection.'\n"
   ]
  },
  {
   "cell_type": "code",
   "execution_count": 58,
   "id": "01e97f46",
   "metadata": {},
   "outputs": [],
   "source": [
    "collection_chosen = col_choices[coll_type_clean]"
   ]
  },
  {
   "cell_type": "code",
   "execution_count": 59,
   "id": "1a74cad3",
   "metadata": {},
   "outputs": [
    {
     "data": {
      "text/plain": [
       "'grout'"
      ]
     },
     "execution_count": 59,
     "metadata": {},
     "output_type": "execute_result"
    }
   ],
   "source": [
    "collection_chosen"
   ]
  },
  {
   "cell_type": "code",
   "execution_count": null,
   "id": "fc1f7246",
   "metadata": {},
   "outputs": [],
   "source": []
  }
 ],
 "metadata": {
  "kernelspec": {
   "display_name": "Python 3 (ipykernel)",
   "language": "python",
   "name": "python3"
  },
  "language_info": {
   "codemirror_mode": {
    "name": "ipython",
    "version": 3
   },
   "file_extension": ".py",
   "mimetype": "text/x-python",
   "name": "python",
   "nbconvert_exporter": "python",
   "pygments_lexer": "ipython3",
   "version": "3.9.7"
  }
 },
 "nbformat": 4,
 "nbformat_minor": 5
}
