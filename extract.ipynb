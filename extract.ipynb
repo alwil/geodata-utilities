{
 "cells": [
  {
   "cell_type": "markdown",
   "metadata": {},
   "source": [
    "# Extract metadata from GEF files"
   ]
  },
  {
   "cell_type": "code",
   "execution_count": 170,
   "metadata": {},
   "outputs": [],
   "source": [
    "import re"
   ]
  },
  {
   "cell_type": "code",
   "execution_count": 194,
   "metadata": {},
   "outputs": [],
   "source": [
    "#load file\n",
    "file = 'HHTT_AEC.GEF'\n",
    "\n",
    "# Extract metadata from file\n",
    "\n",
    "#set up empty variables\n",
    "art_title = ''\n",
    "art_description = ''\n",
    "art_keywords = []\n",
    "art_date = ''\n",
    "art_location = ''\n",
    "geo_lon = ''\n",
    "geo_lat = ''\n",
    "company = ''\n",
    "\n",
    "# create patterns to search text\n",
    "title = re.compile(r'#PROJECT')\n",
    "keywords = re.compile(r'TESTTYPE= |ANCHORTYPE= |LOCATIONZ= ')\n",
    "date = re.compile(r'#STARTDATE=')\n",
    "location = re.compile(r'#LOCATIONAME= ')\n",
    "lon = re.compile(r'#LOCATIONY= ')\n",
    "lat = re.compile(r'#LOCATIONX= ')\n",
    "companyid = re.compile(r'#COMPANYID= ')\n",
    "\n",
    "#save metadata as description\n",
    "with open (file, 'rt') as myfile:\n",
    "    art_description = myfile.read().split('#EOH=',1)[0]\n",
    "\n",
    "# save metadata values as variables\n",
    "with open (file, 'rt') as myfile:\n",
    "    for line in myfile:\n",
    "        if keywords.search(line) != None:\n",
    "            string = re.sub(r\" \", \"\", line)\n",
    "            art_keywords.append(string.rstrip('\\n').replace('#',\"\"))\n",
    "        if title.search(line) != None:\n",
    "            art_title = line.rstrip('\\n').replace('#PROJECT= ',\"\")\n",
    "        if date.search(line) != None:\n",
    "            dstring = re.sub(r\", \", \"-\", line)\n",
    "            art_date = dstring.rstrip('\\n').replace('#STARTDATE= ',\"\")\n",
    "        if location.search(line) != None:\n",
    "            art_location = line.rstrip('\\n').replace('#LOCATIONAME= ',\"\")\n",
    "        if lon.search(line) != None:\n",
    "            geo_lon = line.rstrip('\\n').replace('#LOCATIONY= ',\"\")\n",
    "        if lat.search(line) != None:\n",
    "            geo_lat = line.rstrip('\\n').replace('#LOCATIONX= ',\"\")\n",
    "        if companyid.search(line) != None:\n",
    "            company = line.rstrip('\\n').replace('#COMPANYID= ',\"\")\n",
    "\n",
    "# Define standard metadata\n",
    "art_categories =  [ 13555, 13554 ] # Geophysics, Geodesy\n",
    "art_license = 1 # standard\n",
    "\n",
    "# fill in custom fields for 4TU\n",
    "art_custom_fields = {\"Organizations\": \"TU Delft - Delft University of Technology;\\nTU Delft, Faculty of Civil Engineering and Geosciences\", # \"#COMPANYID= \"\n",
    "                 \"Time coverage\": art_date,\n",
    "                 \"Geolocation\"  : art_location,\n",
    "                 \"Geolocation Longitude\": geo_lon,\n",
    "                 \"Geolocation Latitude\" : geo_lat,\n",
    "                 \"Format\"       : \"media types: application/x-netcdf\"}"
   ]
  },
  {
   "cell_type": "code",
   "execution_count": 195,
   "metadata": {},
   "outputs": [
    {
     "name": "stdout",
     "output_type": "stream",
     "text": [
      "['ANCHORTYPE=self-drilling', 'LOCATIONZ=4.5', 'TESTTYPE=investigation']\n",
      "DCC Test project\n",
      "2028-6-11\n",
      "Maasvlakte\n",
      "4.005598\n",
      "51.953371\n",
      "Ashley Cryan solutions\n",
      "{'Organizations': 'TU Delft - Delft University of Technology;\\nTU Delft, Faculty of Civil Engineering and Geosciences', 'Time coverage': '2028-6-11', 'Geolocation': 'Maasvlakte', 'Geolocation Longitude': '4.005598', 'Geolocation Latitude': '51.953371', 'Format': 'media types: application/x-netcdf'}\n",
      "#GEFID= 1, 1, 1-beta\n",
      "#REPORTCODE= GEF-Anker-data, 1, 1, 0\n",
      "#PROCEDURECODE= GEF-DCC-Test, 1, 1, 1-beta, -\n",
      "#PROJECT= DCC Test project\n",
      "#CLIENT= -\n",
      "#COMPANYID= Ashley Cryan solutions\n",
      "#STARTDATE= 2028, 6, 11\n",
      "#STARTTIME= -\n",
      "#DATEOFREGISTRATION= -\n",
      "#ANCHORID= proefanker 1 - links \n",
      "#ANCHORTYPE= self-drilling\n",
      "#PRODUCTNAME= Test standaard\n",
      "#ANCHORLENGTH= 40, m\n",
      "#GROUTLENGTH= 12.4, m\n",
      "#REALISEDGROUTDIAMETER= 0.335, m\n",
      "#ANCHORANGLE= 90, deg\n",
      "#QCCALCULATION= 37.5, MPa\n",
      "#LOCATIONAME= Maasvlakte\n",
      "#LOCATIONX= 51.953371\n",
      "#LOCATIONY= 4.005598\n",
      "#LOCATIONZ= 4.5 \n",
      "#TESTTYPE= investigation\n",
      "#PRESTRESSFORCE= 510, kN\n",
      "#POSTSTRESSFORCE= -, kN\n",
      "#COLUMN= 3\n",
      "#COLUMNINFO= 1, kN, LOAD, 1\n",
      "#COLUMNINFO= 2, min, T, 2\n",
      "#COLUMNINFO= 3, mm, u, 3\n",
      "#COLUMNVOID= 1, -9999.000000\n",
      "#COLUMNVOID= 2, -9999.000000\n",
      "#COLUMNVOID= 3, -9999.000000\n",
      "#LASTSCAN=103\n",
      "\n"
     ]
    }
   ],
   "source": [
    "print(art_keywords)\n",
    "print(art_title)\n",
    "print(art_date)\n",
    "print(art_location)\n",
    "print(geo_lon)\n",
    "print(geo_lat)\n",
    "print(company)\n",
    "print(art_custom_fields)\n",
    "print(art_description)"
   ]
  }
 ],
 "metadata": {
  "interpreter": {
   "hash": "31f2aee4e71d21fbe5cf8b01ff0e069b9275f58929596ceb00d14d90e3e16cd6"
  },
  "kernelspec": {
   "display_name": "Python 3.8.2 64-bit",
   "language": "python",
   "name": "python3"
  },
  "language_info": {
   "codemirror_mode": {
    "name": "ipython",
    "version": 3
   },
   "file_extension": ".py",
   "mimetype": "text/x-python",
   "name": "python",
   "nbconvert_exporter": "python",
   "pygments_lexer": "ipython3",
   "version": "3.8.2"
  },
  "orig_nbformat": 4
 },
 "nbformat": 4,
 "nbformat_minor": 2
}
